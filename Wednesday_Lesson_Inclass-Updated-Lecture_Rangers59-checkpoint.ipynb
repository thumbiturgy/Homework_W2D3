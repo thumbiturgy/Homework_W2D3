{
 "cells": [
  {
   "cell_type": "markdown",
   "metadata": {},
   "source": [
    "# Data Collections 2 (Dictionaries, Sets) and Importing Modules"
   ]
  },
  {
   "cell_type": "markdown",
   "metadata": {},
   "source": [
    "## Tasks Today:\n",
    "\n",
    "1) Dictionary <br>\n",
    " &nbsp;&nbsp;&nbsp;&nbsp; a) Declaring (key, value) <br>\n",
    " &nbsp;&nbsp;&nbsp;&nbsp; b) Accessing Values <br>\n",
    " &nbsp;&nbsp;&nbsp;&nbsp; ------ Exercise #1 - Print the eye color of each person in a double nested dict <br>\n",
    " &nbsp;&nbsp;&nbsp;&nbsp; c) Adding New Pairs <br>\n",
    " &nbsp;&nbsp;&nbsp;&nbsp; d) Modifying Values <br>\n",
    " &nbsp;&nbsp;&nbsp;&nbsp; e) Removing Key, Value Pairs <br>\n",
    " &nbsp;&nbsp;&nbsp;&nbsp; f) Looping a Dictionary <br>\n",
    " &nbsp;&nbsp;&nbsp;&nbsp; g) Looping Only Keys <br>\n",
    " &nbsp;&nbsp;&nbsp;&nbsp; h) Looping Only Values <br>\n",
    " &nbsp;&nbsp;&nbsp;&nbsp; ------ Exercise #2 - Create a Function that Prints All Key Value Pairs within a print .format()  <br>\n",
    " &nbsp;&nbsp;&nbsp;&nbsp; i) sorted() <br>\n",
    " &nbsp;&nbsp;&nbsp;&nbsp; j) Lists with Dictionaries <br>\n",
    " &nbsp;&nbsp;&nbsp;&nbsp; k) Dictionaries with Lists <br>\n",
    " &nbsp;&nbsp;&nbsp;&nbsp; l) Dictionaries with Dictionaries <br>\n",
    " &nbsp;&nbsp;&nbsp;&nbsp; ------ Exercise #3 - Write a Function that asks someone's name and address, and then stores that into a dictionary, which prints all names and addresses after they're done putting information in...  <br>\n",
    "2) Dictionaries vs. Lists (over time)<br>\n",
    "3) Set <br>\n",
    " &nbsp;&nbsp;&nbsp;&nbsp; a) Declaring <br>\n",
    " &nbsp;&nbsp;&nbsp;&nbsp; b) .add() <br>\n",
    " &nbsp;&nbsp;&nbsp;&nbsp; c) .remove() <br>\n",
    " &nbsp;&nbsp;&nbsp;&nbsp; d) .union() <br>\n",
    " &nbsp;&nbsp;&nbsp;&nbsp; e) .intersection() <br>\n",
    " &nbsp;&nbsp;&nbsp;&nbsp; f) .difference() <br>\n",
    " &nbsp;&nbsp;&nbsp;&nbsp; g) Frozen Set <br>\n",
    "4) Modules <br>\n",
    " &nbsp;&nbsp;&nbsp;&nbsp; a) Importing Entire Modules <br>\n",
    " &nbsp;&nbsp;&nbsp;&nbsp; b) Importing Methods Only <br>\n",
    " &nbsp;&nbsp;&nbsp;&nbsp; c) Using the 'as' Keyword <br>\n",
    " &nbsp;&nbsp;&nbsp;&nbsp; d) Creating a Module <br>\n",
    "5) Exercises <br>\n",
    " &nbsp;&nbsp;&nbsp;&nbsp; a) Build a Shopping Cart <br>\n",
    " &nbsp;&nbsp;&nbsp;&nbsp; b) Create Your Own Module <br>"
   ]
  },
  {
   "cell_type": "markdown",
   "metadata": {},
   "source": [
    "## Dictionary <br>\n",
    "<p>A collection of data with 'key:value' pairs. Dictionaries are ordered as of Python 3.6</p>"
   ]
  },
  {
   "cell_type": "code",
   "execution_count": null,
   "metadata": {},
   "outputs": [],
   "source": [
    "a_dict = {}\n",
    "another_dict = dict()"
   ]
  },
  {
   "cell_type": "markdown",
   "metadata": {},
   "source": [
    "##### Declaring (key, value)"
   ]
  },
  {
   "cell_type": "code",
   "execution_count": 5,
   "metadata": {},
   "outputs": [
    {
     "ename": "KeyError",
     "evalue": "0",
     "output_type": "error",
     "traceback": [
      "\u001b[1;31m---------------------------------------------------------------------------\u001b[0m",
      "\u001b[1;31mKeyError\u001b[0m                                  Traceback (most recent call last)",
      "\u001b[1;32m~\\AppData\\Local\\Temp\\ipykernel_11964\\2353552032.py\u001b[0m in \u001b[0;36m<module>\u001b[1;34m\u001b[0m\n\u001b[0;32m     18\u001b[0m \u001b[0mseans_vehicle_dict\u001b[0m\u001b[1;33m[\u001b[0m\u001b[1;34m'make'\u001b[0m\u001b[1;33m]\u001b[0m\u001b[1;33m\u001b[0m\u001b[1;33m\u001b[0m\u001b[0m\n\u001b[0;32m     19\u001b[0m \u001b[1;33m\u001b[0m\u001b[0m\n\u001b[1;32m---> 20\u001b[1;33m \u001b[0mmy_car_dict\u001b[0m\u001b[1;33m[\u001b[0m\u001b[1;36m0\u001b[0m\u001b[1;33m]\u001b[0m\u001b[1;33m\u001b[0m\u001b[1;33m\u001b[0m\u001b[0m\n\u001b[0m",
      "\u001b[1;31mKeyError\u001b[0m: 0"
     ]
    }
   ],
   "source": [
    "my_car = ['honda', 'fit', 'white', '2006']\n",
    "\n",
    "sean_vehicle = ['electric', 'honda', 'scooter', '2002']\n",
    "\n",
    "my_car[-1]\n",
    "\n",
    "my_car_dict = {\n",
    "    'make' : 'honda',\n",
    "    'model' : 'fit',\n",
    "    'color' : 'white',\n",
    "    'year' : 2006\n",
    "}\n",
    "\n",
    "seans_vehicle_dict = {'make' : 'honda'}\n",
    "\n",
    "my_car_dict['make']\n",
    "\n",
    "seans_vehicle_dict['make']\n",
    "\n",
    "#my_car_dict[0]"
   ]
  },
  {
   "cell_type": "markdown",
   "metadata": {},
   "source": [
    "##### Accessing Values"
   ]
  },
  {
   "cell_type": "code",
   "execution_count": 9,
   "metadata": {},
   "outputs": [
    {
     "data": {
      "text/plain": [
       "'fit'"
      ]
     },
     "execution_count": 9,
     "metadata": {},
     "output_type": "execute_result"
    }
   ],
   "source": [
    "my_car_dict['model']\n",
    "\n",
    "keys_list = list(my_car_dict.keys())\n",
    "for key in keys_list:\n",
    "    "
   ]
  },
  {
   "cell_type": "markdown",
   "metadata": {},
   "source": [
    "## In-Class Exercise #1 - Print a formatted statement from the dictionary below <br>\n",
    "<p>The output should be '2018 Chevrolet Silverado'</p>"
   ]
  },
  {
   "cell_type": "code",
   "execution_count": 13,
   "metadata": {},
   "outputs": [
    {
     "name": "stdout",
     "output_type": "stream",
     "text": [
      "2018 Chevrolet Silverado\n"
     ]
    }
   ],
   "source": [
    "# use the dict below\n",
    "truck = {\n",
    "    'year': 2018,\n",
    "    'make': 'Chevrolet',\n",
    "    'model': 'Silverado'\n",
    "}\n",
    "\n",
    "print(f\"{truck['year']} {truck['make']} {truck['model']}\")\n"
   ]
  },
  {
   "cell_type": "markdown",
   "metadata": {},
   "source": [
    "##### Adding New Pairs"
   ]
  },
  {
   "cell_type": "code",
   "execution_count": 14,
   "metadata": {},
   "outputs": [
    {
     "name": "stdout",
     "output_type": "stream",
     "text": [
      "{'year': 2018, 'make': 'Chevrolet', 'model': 'Silverado', 'color': 'blue'}\n"
     ]
    }
   ],
   "source": [
    "truck['color'] = 'blue'\n",
    "print(truck)"
   ]
  },
  {
   "cell_type": "markdown",
   "metadata": {},
   "source": [
    "##### Modifying Values"
   ]
  },
  {
   "cell_type": "code",
   "execution_count": 15,
   "metadata": {},
   "outputs": [
    {
     "name": "stdout",
     "output_type": "stream",
     "text": [
      "{'year': 2018, 'make': 'Chevrolet', 'model': 'Silverado', 'color': 'blue'}\n",
      "{'year': 2018, 'make': 'Chevrolet', 'model': 'Silverado', 'color': 'yellow'}\n"
     ]
    }
   ],
   "source": [
    "print(truck)\n",
    "truck['color'] = 'yellow'\n",
    "print(truck)"
   ]
  },
  {
   "cell_type": "markdown",
   "metadata": {},
   "source": [
    "##### Removing Key, Value Pairs"
   ]
  },
  {
   "cell_type": "code",
   "execution_count": 18,
   "metadata": {},
   "outputs": [
    {
     "name": "stdout",
     "output_type": "stream",
     "text": [
      "{'make': 'Chevrolet', 'model': 'Silverado'}\n"
     ]
    }
   ],
   "source": [
    "# del truck['color']\n",
    "# print(truck)\n",
    "\n",
    "truck.pop('year')\n",
    "print(truck)"
   ]
  },
  {
   "cell_type": "markdown",
   "metadata": {},
   "source": [
    "##### Looping a Dictionary"
   ]
  },
  {
   "cell_type": "code",
   "execution_count": 20,
   "metadata": {},
   "outputs": [
    {
     "name": "stdout",
     "output_type": "stream",
     "text": [
      "dict_items([('make', 'Chevrolet'), ('model', 'Silverado')])\n",
      "Truck make Chevrolet\n",
      "Truck model Silverado\n"
     ]
    }
   ],
   "source": [
    "# .items()\n",
    "\n",
    "print(truck.items())\n",
    "\n",
    "for k,v in truck.items():\n",
    "    print(f'Truck {k} {v}')\n",
    "    \n"
   ]
  },
  {
   "cell_type": "markdown",
   "metadata": {},
   "source": [
    "##### Looping Only Keys"
   ]
  },
  {
   "cell_type": "code",
   "execution_count": null,
   "metadata": {},
   "outputs": [],
   "source": [
    "# .keys()\n",
    "\n"
   ]
  },
  {
   "cell_type": "markdown",
   "metadata": {},
   "source": [
    "##### Looping Only Values"
   ]
  },
  {
   "cell_type": "code",
   "execution_count": 21,
   "metadata": {},
   "outputs": [
    {
     "name": "stdout",
     "output_type": "stream",
     "text": [
      "Chevrolet\n",
      "Silverado\n"
     ]
    }
   ],
   "source": [
    "# .values()\n",
    "\n",
    "for value in truck.values():\n",
    "    print(value)\n",
    "\n"
   ]
  },
  {
   "cell_type": "markdown",
   "metadata": {},
   "source": [
    "## In-Class Exercise #2 - Create a Function that Prints All Key Value Pairs within a print .format() <br>\n",
    "<p><b>Output should be:</b><br>\n",
    "Max has blue eyes<br>\n",
    "Lilly has brown eyes<br>\n",
    "Barney has blue eyes<br>\n",
    "etc.\n",
    "</p>"
   ]
  },
  {
   "cell_type": "code",
   "execution_count": 23,
   "metadata": {},
   "outputs": [
    {
     "name": "stdout",
     "output_type": "stream",
     "text": [
      "Max has blue eyes\n",
      "Lilly has brown eyes\n",
      "Barney has blue eyes\n",
      "Larney has brown eyes\n",
      "Ted has purple eyes\n"
     ]
    }
   ],
   "source": [
    "# use the dict below\n",
    "def eye_colors(group):\n",
    "    for k,v in group.items():\n",
    "        print(f'{k} has {v} eyes')\n",
    "\n",
    "\n",
    "people = {\n",
    "    'Max': 'blue',\n",
    "    'Lilly': 'brown',\n",
    "    'Barney': 'blue',\n",
    "    'Larney': 'brown',\n",
    "    'Ted': 'purple'\n",
    "}\n",
    "\n",
    "eye_colors(people)"
   ]
  },
  {
   "cell_type": "markdown",
   "metadata": {},
   "source": [
    "##### sorted()"
   ]
  },
  {
   "cell_type": "code",
   "execution_count": 26,
   "metadata": {},
   "outputs": [
    {
     "name": "stdout",
     "output_type": "stream",
     "text": [
      "['Barney', 'Larney', 'Lilly', 'Max', 'Ted']\n",
      "['blue', 'blue', 'brown', 'brown', 'purple']\n",
      "[('Barney', 'blue'), ('Larney', 'brown'), ('Lilly', 'brown'), ('Max', 'blue'), ('Ted', 'purple')]\n"
     ]
    }
   ],
   "source": [
    "# sorts variables in order\n",
    "# sorted(dict.values()) or dict.keys() or dict.items()\n",
    "\n",
    "# returning a list of dict's sorted keys by default\n",
    "print(sorted(people))\n",
    "\n",
    "# sorted values\n",
    "\n",
    "print(sorted(people.values()))\n",
    "\n",
    "print(sorted(people.items()))"
   ]
  },
  {
   "cell_type": "markdown",
   "metadata": {},
   "source": [
    "##### List with Dictionaries"
   ]
  },
  {
   "cell_type": "code",
   "execution_count": 31,
   "metadata": {},
   "outputs": [
    {
     "data": {
      "text/plain": [
       "'harmonica'"
      ]
     },
     "execution_count": 31,
     "metadata": {},
     "output_type": "execute_result"
    }
   ],
   "source": [
    "rockstars = [\n",
    "    {\n",
    "        'name' : 'jimi',\n",
    "        'age' : 32,\n",
    "        'instruments' : ['guitar', 'keyboard', 'drums']\n",
    "    },\n",
    "    {\n",
    "        'name' : 'sean',\n",
    "        'age' : 25,\n",
    "        'instruments' : ['bass', 'saxophone']\n",
    "    },\n",
    "    {\n",
    "        'name' : 'Bob Dylan',\n",
    "        'age' : 45,\n",
    "        'instruments' : ['harmonica']\n",
    "    }\n",
    "]\n",
    "\n",
    "rockstars[2]['instruments'][0]"
   ]
  },
  {
   "cell_type": "markdown",
   "metadata": {},
   "source": [
    "##### Dictionaries with Lists"
   ]
  },
  {
   "cell_type": "code",
   "execution_count": null,
   "metadata": {},
   "outputs": [],
   "source": [
    "# be careful when using numbers as keys in dictionaries, don't confuse them with indexes\n",
    "rockstar = {\n",
    "    'name' : 'jimi',\n",
    "    'age' : 32,\n",
    "    'instruments' : ['guitar', 'keyboard', 'drums']\n",
    "}\n",
    "\n",
    "print(rockstar['instruments'][1])"
   ]
  },
  {
   "cell_type": "markdown",
   "metadata": {},
   "source": [
    "##### Dictionaries with Dictionaries"
   ]
  },
  {
   "cell_type": "code",
   "execution_count": null,
   "metadata": {},
   "outputs": [],
   "source": [
    "# to get values, must traverse through keys\n",
    "\n",
    "shopping_cart = {\n",
    "    'bread' : {\n",
    "        'quantity' : 2,\n",
    "        'price' : 4\n",
    "    },\n",
    "    'milk' : {\n",
    "        'quantity' : 3,\n",
    "        'price' : 6\n",
    "    },\n",
    "    'chicken' : {\n",
    "        'quantity' : 2,\n",
    "        'price' : 8\n",
    "    },\n",
    "    'bananas' : {\n",
    "        'quantity' : 5,\n",
    "        'value' : 5\n",
    "    }\n",
    "}\n",
    "\n"
   ]
  },
  {
   "cell_type": "markdown",
   "metadata": {},
   "source": [
    "## Dictionaries vs. Lists (over time) Example of RUNTIME\n",
    "### When inputting values in a Dictionary vs List"
   ]
  },
  {
   "cell_type": "code",
   "execution_count": 32,
   "metadata": {},
   "outputs": [],
   "source": [
    "import time\n",
    "\n",
    "\n",
    "# generate fake dictionary\n",
    "d = {}\n",
    "\n",
    "for i in range(10000000):\n",
    "    d[i] = 'value'\n",
    "    \n",
    "\n",
    "# generate fake list\n",
    "big_list = [x for x in range(10000000)]"
   ]
  },
  {
   "cell_type": "code",
   "execution_count": 33,
   "metadata": {},
   "outputs": [
    {
     "name": "stdout",
     "output_type": "stream",
     "text": [
      "value\n",
      "Elapsed time for dictionary: 0.0\n",
      "9999999\n",
      "Elapsed time for list: 0.4273085594177246\n"
     ]
    }
   ],
   "source": [
    "# tracking time for dictionary\n",
    "start_time = time.time()\n",
    "\n",
    "print(d[9999999])\n",
    "\n",
    "end_time = time.time() - start_time\n",
    "\n",
    "print('Elapsed time for dictionary: {}'.format(end_time))\n",
    "\n",
    "\n",
    "# tracking time for list\n",
    "start_time = time.time()\n",
    "\n",
    "for i in range(len(big_list)):\n",
    "    if i == 9999999:\n",
    "        print(i)\n",
    "\n",
    "end_time = time.time() - start_time\n",
    "\n",
    "print('Elapsed time for list: {}'.format(end_time))"
   ]
  },
  {
   "cell_type": "markdown",
   "metadata": {},
   "source": [
    "## Exercise #3 - Write a Function that asks someone's name and address, and then stores that into a dictionary, and continues to do so until they choose to 'quit'. Once they quit, the program should print all names and addresses. <br>\n",
    "<p>\n",
    "<b>Proper steps:</b><br>\n",
    "step 1: write a function that takes in information and stores it in a dictionary<br>\n",
    "step 2: define an empty dictionary to work with<br>\n",
    "step 3: create our loop, which asks the user for information until they quit<br>\n",
    "step 4: ask for the information, and store it into variables<br>\n",
    "step 5: check if the user types quit<br>\n",
    "step 5a: print out all information<br>\n",
    "step 5b: break out of the loop<br>\n",
    "step 6: if they didn't quit, add the information to the dictionary<br>\n",
    "step 7: invoke the function by calling it\n",
    "</p>"
   ]
  },
  {
   "cell_type": "code",
   "execution_count": 4,
   "metadata": {},
   "outputs": [
    {
     "name": "stdout",
     "output_type": "stream",
     "text": [
      "Tell me your name, or say \"quit\".  \n",
      "John\n",
      "And your address?\n",
      "123 Here St\n",
      "Tell me your name, or say \"quit\".  \n",
      "Khoa\n",
      "And your address?\n",
      "456 There St\n",
      "Tell me your name, or say \"quit\".  \n",
      "Ray\n",
      "And your address?\n",
      "789 Somewhere Blvd\n",
      "Tell me your name, or say \"quit\".  \n",
      "quit\n",
      "\n",
      "John\n",
      "123 Here St\n",
      "\n",
      "Khoa\n",
      "456 There St\n",
      "\n",
      "Ray\n",
      "789 Somewhere Blvd\n"
     ]
    }
   ],
   "source": [
    "from IPython.display import clear_output\n",
    "def rolodex():\n",
    "    contacts ={}\n",
    "    while True:\n",
    "        name = input('Tell me your name, or say \"quit\".  \\n')\n",
    "        if name.lower() == 'quit':\n",
    "            break\n",
    "        address = input('And your address?\\n')\n",
    "        contacts[name] = address\n",
    "        \n",
    "    for name, address in contacts.items():\n",
    "        print('\\n' + name)\n",
    "        print(address)\n",
    "#         print(f'{name} lives at {address}!\\n')\n",
    "    #print(contacts)\n",
    "    \n",
    "rolodex()"
   ]
  },
  {
   "cell_type": "markdown",
   "metadata": {},
   "source": [
    "## Set <br>\n",
    "<p>A Set is an unordered collection data type that is iterable (loop), mutable, and has no duplicate elements.<br>Major advantage is that it is highly optimized in checking if something is in the set, as opposed to checking if something is in a list.</p>"
   ]
  },
  {
   "cell_type": "markdown",
   "metadata": {},
   "source": [
    "##### Declaring"
   ]
  },
  {
   "cell_type": "code",
   "execution_count": 1,
   "metadata": {},
   "outputs": [],
   "source": [
    "# set() or {}\n",
    "# no order {3, 2, 1} outputs as {1, 2, 3}\n"
   ]
  },
  {
   "cell_type": "markdown",
   "metadata": {},
   "source": [
    "##### .add()"
   ]
  },
  {
   "cell_type": "code",
   "execution_count": null,
   "metadata": {},
   "outputs": [],
   "source": [
    "# set.add()\n"
   ]
  },
  {
   "cell_type": "markdown",
   "metadata": {},
   "source": [
    "##### .remove()"
   ]
  },
  {
   "cell_type": "code",
   "execution_count": null,
   "metadata": {},
   "outputs": [],
   "source": [
    "# removes by value\n",
    "# set.remove()\n",
    "# nums.remove(56)\n",
    "\n"
   ]
  },
  {
   "cell_type": "markdown",
   "metadata": {},
   "source": [
    "##### .union() "
   ]
  },
  {
   "cell_type": "code",
   "execution_count": null,
   "metadata": {},
   "outputs": [],
   "source": [
    "# Returns a union of two sets, can also use '|' or set.union(set)\n",
    "# joins all numbers, gets rid of duplicates\n"
   ]
  },
  {
   "cell_type": "markdown",
   "metadata": {},
   "source": [
    "##### .intersection()"
   ]
  },
  {
   "cell_type": "code",
   "execution_count": null,
   "metadata": {},
   "outputs": [],
   "source": [
    "# Returns an intersection of two sets, can also use '&'\n",
    "# only takes similar elements from both sets\n",
    "\n"
   ]
  },
  {
   "cell_type": "markdown",
   "metadata": {},
   "source": [
    "##### .difference()"
   ]
  },
  {
   "cell_type": "code",
   "execution_count": null,
   "metadata": {},
   "outputs": [],
   "source": [
    "# Returns a set containing all the elements of invoking set that are not in the second set, can also use '-'\n",
    "# only takes values from the first set that are not in the second set\n",
    "# order matters\n",
    "\n"
   ]
  },
  {
   "cell_type": "markdown",
   "metadata": {},
   "source": [
    "##### .clear()"
   ]
  },
  {
   "cell_type": "code",
   "execution_count": null,
   "metadata": {},
   "outputs": [],
   "source": [
    "# Empties the whole set\n",
    "# set.clear()\n"
   ]
  },
  {
   "cell_type": "markdown",
   "metadata": {},
   "source": [
    "##### Frozenset <br>\n",
    "<p>Frozen sets are immutable objects that only support methods and operators that produce a result without affecting the frozen set or sets to which they are applied.</p><br><b>Unique & Immutable</b>"
   ]
  },
  {
   "cell_type": "code",
   "execution_count": null,
   "metadata": {},
   "outputs": [],
   "source": [
    "# frozenset([])\n"
   ]
  },
  {
   "cell_type": "markdown",
   "metadata": {},
   "source": [
    "## Modules"
   ]
  },
  {
   "cell_type": "markdown",
   "metadata": {},
   "source": [
    "##### Importing Entire Modules"
   ]
  },
  {
   "cell_type": "code",
   "execution_count": null,
   "metadata": {},
   "outputs": [],
   "source": [
    "# import or from 'xxx' import *\n",
    "# import math\n",
    "\n"
   ]
  },
  {
   "cell_type": "markdown",
   "metadata": {},
   "source": [
    "##### Importing Methods Only"
   ]
  },
  {
   "cell_type": "code",
   "execution_count": null,
   "metadata": {},
   "outputs": [],
   "source": [
    "# from 'xxx' import 'xxx'\n",
    "# from math import floor\n",
    "\n",
    "\n"
   ]
  },
  {
   "cell_type": "markdown",
   "metadata": {},
   "source": [
    "##### Using the 'as' Keyword"
   ]
  },
  {
   "cell_type": "code",
   "execution_count": null,
   "metadata": {},
   "outputs": [],
   "source": [
    "# from 'xxx' import 'xxx' as 'xxx' or import 'xxx' as 'xxx'\n",
    "# from math import floor as f\n"
   ]
  },
  {
   "cell_type": "markdown",
   "metadata": {},
   "source": [
    "##### Creating a Module"
   ]
  },
  {
   "cell_type": "code",
   "execution_count": null,
   "metadata": {},
   "outputs": [],
   "source": []
  },
  {
   "cell_type": "markdown",
   "metadata": {},
   "source": [
    "# Exercises"
   ]
  },
  {
   "cell_type": "markdown",
   "metadata": {},
   "source": [
    "### 1) Build a Shopping Cart <br>\n",
    "<p><b>You can use either lists or dictionaries. The program should have the following capabilities:</b><br><br>\n",
    "1) Takes in input <br>\n",
    "2) Stores user input into a dictionary or list <br>\n",
    "3) The User can add or delete items <br>\n",
    "4) The User can see current shopping list <br>\n",
    "5) The program Loops until user 'quits' <br>\n",
    "6) Upon quiting the program, print out all items in the user's list <br>\n",
    "</p>"
   ]
  },
  {
   "cell_type": "code",
   "execution_count": 5,
   "metadata": {},
   "outputs": [
    {
     "name": "stdout",
     "output_type": "stream",
     "text": [
      "\n",
      "Your cart is empty!\n",
      "\n",
      "\n",
      "---John's wallet: $30---Current Total: $0---\n",
      "How can I help you? \n",
      "To see our stock and prices, say 'browse'.\n",
      "To see what's in your cart so far, say 'cart'\n",
      "To add an item to your cart, say the name of the item!\n",
      "You can also say 'replace' to put something back, 'checkout' if you're finished, or 'quit' to forget the whole thing.\n",
      "quit\n",
      "Thanks for stopping by, John!\n"
     ]
    }
   ],
   "source": [
    "from IPython.display import clear_output\n",
    "\n",
    "# Ask the user four bits of input: Do you want to : Show/Add/Delete or Quit?\n",
    "wallet = 50\n",
    "cart_total = 0\n",
    "shopping_cart = {}\n",
    "store = {\n",
    "    'honeycrisp apple' : {\n",
    "        'price' : 2,\n",
    "        'stock' : 4\n",
    "    },\n",
    "    'mango' : {\n",
    "        'price' : 4,\n",
    "        'stock' : 4\n",
    "    },\n",
    "    'plum' : {\n",
    "        'price' : 3,\n",
    "        'stock' : 5\n",
    "    },\n",
    "    'watermelon' : {\n",
    "        'price' : 6,\n",
    "        'stock' : 3\n",
    "    },\n",
    "    'lemon' : {\n",
    "        'price' : 1,\n",
    "        'stock' : 8\n",
    "    },\n",
    "    'pear' : {\n",
    "        'price' : 2,\n",
    "        'stock' : 5\n",
    "    }\n",
    "}\n",
    "\n",
    "name = input('\\nWelcome to my fruit stand! What\\'s your name?\\n')\n",
    "\n",
    "(f'\\nNice to meet you, {name.title()}! Looks like you have ${str(wallet)} to spend today.')\n",
    "\n",
    "while True:\n",
    "    print(f'\\n\\n---{name.title()}\\'s wallet: ${str(wallet)}---Current Total: ${cart_total}---')\n",
    "    response = input(\"How can I help you? \\nTo see our stock and prices, say 'browse'.\\nTo see what's in your cart so far, say 'cart'\\nTo add an item to your cart, say the name of the item!\\nYou can also say 'replace' to put something back, 'checkout' if you're finished, or 'quit' to forget the whole thing.\\n\")\n",
    "    \n",
    "    if response.lower() == 'quit':\n",
    "        print(f'Thanks for stopping by, {name.title()}!')\n",
    "        break\n",
    "                 \n",
    "    if response.lower() == 'browse':\n",
    "        clear_output()\n",
    "        for fruit in store.keys():\n",
    "            if store[fruit]['stock'] > 0:\n",
    "                print(f\"\\n{fruit.title()}-- ${store[fruit]['price']}\\n\\t{store[fruit]['stock']} left in stock\")\n",
    "            else:\n",
    "                print(f\"\\n{fruit.title()}-- ${store[fruit]['price']}\\n\\tOut of stock!\")\n",
    "                      \n",
    "    if response.lower() in store.keys():\n",
    "        clear_output()\n",
    "        if store[response]['stock'] == 0:\n",
    "            print(f\"\\nWe're all out of {response}! Can I get you something else?\")\n",
    "        else:\n",
    "            qty = input(f\"\\n{response.title()}s are ${store[response]['price']}. I have {store[response]['stock']} left to sell. How many can I get you?\\n\")\n",
    "            if int(qty) == 0:\n",
    "                continue\n",
    "            if int(store[response]['stock']) < int(qty):\n",
    "                qty = input(f\"\\nOops! I only have {str(store[response]['stock'])} of those left! How many?\\n\")\n",
    "            elif response in shopping_cart.keys():\n",
    "                shopping_cart[response] = int(qty) + shopping_cart[response]\n",
    "                store[response]['stock'] = store[response]['stock'] - int(qty)\n",
    "                cart_total += store[response]['price'] * int(qty)\n",
    "            else:\n",
    "                shopping_cart[response] = int(qty)\n",
    "                store[response]['stock'] = store[response]['stock'] - int(qty)\n",
    "                cart_total += store[response]['price'] * int(qty)\n",
    "                 \n",
    "    if response.lower() == 'cart':\n",
    "        clear_output()\n",
    "        if not shopping_cart:\n",
    "            print(\"\\nYour cart is empty!\")\n",
    "        else:\n",
    "            print(\"\\n--My Cart--\")\n",
    "            for item, num in shopping_cart.items():\n",
    "                print(f\"{item}---{str(num)}\")\n",
    "    \n",
    "    if response.lower() == 'replace':\n",
    "        clear_output()\n",
    "        if not shopping_cart:\n",
    "            print(\"Your cart is empty!\")\n",
    "            continue\n",
    "        print(shopping_cart)\n",
    "        replaced_item = input(f\"\\nWhat are you putting back?\\n\")\n",
    "        \n",
    "        if replaced_item not in store.keys():\n",
    "            print(f\"\\nI don't even carry {replaced_item}s, so you didn't get that here!\")\n",
    "        elif not shopping_cart[replaced_item]:\n",
    "            print(f\"\\nLooks like you don't have any {replaced_item}s in your cart yet!\")\n",
    "        else:\n",
    "            num_returned = input(f\"You have {str(shopping_cart[replaced_item])} of those in your cart. How many are you putting back?\\n\")\n",
    "            if int(num_returned) > shopping_cart[replaced_item]:\n",
    "                  num_returned = input(f\"\\nYou only have {shopping_cart[replaced_item]}. How many will you put back?\\n \")\n",
    "            else:\n",
    "                print(\"\\nBack they go!\")\n",
    "                shopping_cart[replaced_item] = shopping_cart[replaced_item] - int(num_returned)\n",
    "                store[replaced_item]['stock'] = store[replaced_item]['stock'] + int(num_returned)\n",
    "                cart_total -= store[replaced_item]['price'] * int(num_returned)\n",
    "    \n",
    "    if response.lower() == 'checkout':\n",
    "        clear_output()\n",
    "        print(f\"\\nYour total comes to ${cart_total}.\")\n",
    "        if cart_total > wallet:\n",
    "            print(f\"\\nLooks like you're ${cart_total - wallet} short! Try typing 'replace' to put something back.\")\n",
    "            continue\n",
    "        if not shopping_cart:\n",
    "            print(\"\\nYour cart is empty! Buy somethin', will ya?!\")\n",
    "        else:\n",
    "            print(f\"\\n---{name.title()}'s cart---\")\n",
    "            for purchase, num in shopping_cart.items():\n",
    "                print(f\"\\n{purchase} x {str(num)}\\n\\t ${str(store[purchase]['price'] * num)}\")\n",
    "            print(f\"\\n\\tTotal\\t\\t${str(cart_total)}\")\n",
    "            confirm = input(\"Check out with these items? Say 'yes' or 'no'.\\n\")\n",
    "            if confirm == 'no':\n",
    "                continue\n",
    "            else:\n",
    "                wallet -= cart_total\n",
    "                cart_total -= cart_total\n",
    "                shopping_cart = {}\n",
    "        keep_shopping = input(\"\\nContinue shopping? ('yes' or 'no')\\n\")\n",
    "        if keep_shopping == 'yes':\n",
    "            continue\n",
    "        else:\n",
    "            print(f\"Thanks for shopping with us today, {name.title()}! Come back soon!\")\n",
    "            break\n",
    "                         \n",
    "                 "
   ]
  },
  {
   "cell_type": "markdown",
   "metadata": {},
   "source": [
    "### 2) Create a Module in VS Code and Import It into jupyter notebook <br>\n",
    "<p><b>Module should have the following capabilities:</b><br><br>\n",
    "1) Has a function to calculate the square footage of a house <br>\n",
    "    <b>Reminder of Formula: Length X Width == Area<br>\n",
    "        <hr>\n",
    "2) Has a function to calculate the circumference of a circle <br><br>\n",
    "<b>Program in Jupyter Notebook should take in user input and use imported functions to calculate a circle's circumference or a houses square footage</b>\n",
    "</p>"
   ]
  },
  {
   "cell_type": "code",
   "execution_count": null,
   "metadata": {},
   "outputs": [],
   "source": []
  },
  {
   "cell_type": "code",
   "execution_count": null,
   "metadata": {},
   "outputs": [],
   "source": []
  }
 ],
 "metadata": {
  "kernelspec": {
   "display_name": "Python 3 (ipykernel)",
   "language": "python",
   "name": "python3"
  },
  "language_info": {
   "codemirror_mode": {
    "name": "ipython",
    "version": 3
   },
   "file_extension": ".py",
   "mimetype": "text/x-python",
   "name": "python",
   "nbconvert_exporter": "python",
   "pygments_lexer": "ipython3",
   "version": "3.9.13"
  }
 },
 "nbformat": 4,
 "nbformat_minor": 2
}
